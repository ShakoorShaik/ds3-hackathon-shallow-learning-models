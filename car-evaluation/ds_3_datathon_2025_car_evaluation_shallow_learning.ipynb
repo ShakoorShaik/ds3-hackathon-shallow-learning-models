{
 "cells": [
  {
   "cell_type": "code",
   "execution_count": 1,
   "id": "dccbaa7c",
   "metadata": {
    "_cell_guid": "b1076dfc-b9ad-4769-8c92-a6c4dae69d19",
    "_uuid": "8f2839f25d086af736a60e9eeb907d3b93b6e0e5",
    "execution": {
     "iopub.execute_input": "2025-02-18T18:19:06.407511Z",
     "iopub.status.busy": "2025-02-18T18:19:06.407088Z",
     "iopub.status.idle": "2025-02-18T18:19:09.989126Z",
     "shell.execute_reply": "2025-02-18T18:19:09.988065Z"
    },
    "papermill": {
     "duration": 3.589575,
     "end_time": "2025-02-18T18:19:09.991187",
     "exception": false,
     "start_time": "2025-02-18T18:19:06.401612",
     "status": "completed"
    },
    "tags": []
   },
   "outputs": [],
   "source": [
    "import numpy as np # linear algebra\n",
    "import pandas as pd # data processing, CSV file I/O (e.g. pd.read_csv)\n",
    "from sklearn.preprocessing import LabelEncoder\n",
    "from xgboost import XGBClassifier \n",
    "from sklearn.model_selection import train_test_split"
   ]
  },
  {
   "cell_type": "code",
   "execution_count": 2,
   "id": "0c0f2568",
   "metadata": {
    "execution": {
     "iopub.execute_input": "2025-02-18T18:19:10.000495Z",
     "iopub.status.busy": "2025-02-18T18:19:09.999964Z",
     "iopub.status.idle": "2025-02-18T18:19:10.029489Z",
     "shell.execute_reply": "2025-02-18T18:19:10.028337Z"
    },
    "papermill": {
     "duration": 0.03593,
     "end_time": "2025-02-18T18:19:10.031303",
     "exception": false,
     "start_time": "2025-02-18T18:19:09.995373",
     "status": "completed"
    },
    "tags": []
   },
   "outputs": [],
   "source": [
    "# Load Data\n",
    "train_path = \"/kaggle/input/car-eval/car_eval_train.csv\"\n",
    "test_path = \"/kaggle/input/car-eval/car_eval_test.csv\"\n",
    "df = pd.read_csv(train_path)\n",
    "test_df = pd.read_csv(test_path)"
   ]
  },
  {
   "cell_type": "code",
   "execution_count": 3,
   "id": "7de5f6f6",
   "metadata": {
    "execution": {
     "iopub.execute_input": "2025-02-18T18:19:10.040556Z",
     "iopub.status.busy": "2025-02-18T18:19:10.040161Z",
     "iopub.status.idle": "2025-02-18T18:19:10.051697Z",
     "shell.execute_reply": "2025-02-18T18:19:10.050575Z"
    },
    "papermill": {
     "duration": 0.017865,
     "end_time": "2025-02-18T18:19:10.053327",
     "exception": false,
     "start_time": "2025-02-18T18:19:10.035462",
     "status": "completed"
    },
    "tags": []
   },
   "outputs": [],
   "source": [
    "# Preserve 'id' column from test set if it exists\n",
    "if \"id\" in test_df.columns:\n",
    "    test_ids = test_df[\"id\"]\n",
    "else:\n",
    "    test_ids = pd.Series(range(1, len(test_df) + 1), name=\"id\")"
   ]
  },
  {
   "cell_type": "code",
   "execution_count": 4,
   "id": "654af53d",
   "metadata": {
    "execution": {
     "iopub.execute_input": "2025-02-18T18:19:10.062210Z",
     "iopub.status.busy": "2025-02-18T18:19:10.061844Z",
     "iopub.status.idle": "2025-02-18T18:19:10.075478Z",
     "shell.execute_reply": "2025-02-18T18:19:10.074284Z"
    },
    "papermill": {
     "duration": 0.020291,
     "end_time": "2025-02-18T18:19:10.077440",
     "exception": false,
     "start_time": "2025-02-18T18:19:10.057149",
     "status": "completed"
    },
    "tags": []
   },
   "outputs": [],
   "source": [
    "# Drop unnecessary columns\n",
    "df.drop(columns=[col for col in [\"Unnamed: 0\"] if col in df.columns], inplace=True)\n",
    "test_df.drop(columns=[col for col in [\"Unnamed: 0\", \"id\"] if col in test_df.columns], inplace=True)"
   ]
  },
  {
   "cell_type": "code",
   "execution_count": 5,
   "id": "a19c5272",
   "metadata": {
    "execution": {
     "iopub.execute_input": "2025-02-18T18:19:10.086444Z",
     "iopub.status.busy": "2025-02-18T18:19:10.086077Z",
     "iopub.status.idle": "2025-02-18T18:19:10.110227Z",
     "shell.execute_reply": "2025-02-18T18:19:10.109000Z"
    },
    "papermill": {
     "duration": 0.030781,
     "end_time": "2025-02-18T18:19:10.112148",
     "exception": false,
     "start_time": "2025-02-18T18:19:10.081367",
     "status": "completed"
    },
    "tags": []
   },
   "outputs": [
    {
     "name": "stderr",
     "output_type": "stream",
     "text": [
      "<ipython-input-5-8bee2109b3a3>:11: FutureWarning: Downcasting behavior in `replace` is deprecated and will be removed in a future version. To retain the old behavior, explicitly call `result.infer_objects(copy=False)`. To opt-in to the future behavior, set `pd.set_option('future.no_silent_downcasting', True)`\n",
      "  df.replace(mappings, inplace=True)\n",
      "<ipython-input-5-8bee2109b3a3>:12: FutureWarning: Downcasting behavior in `replace` is deprecated and will be removed in a future version. To retain the old behavior, explicitly call `result.infer_objects(copy=False)`. To opt-in to the future behavior, set `pd.set_option('future.no_silent_downcasting', True)`\n",
      "  test_df.replace(mappings, inplace=True)\n"
     ]
    }
   ],
   "source": [
    "# Encoding categorical variables\n",
    "mappings = {\n",
    "    \"buying\": {\"low\": 1, \"med\": 2, \"high\": 3, \"vhigh\": 4},\n",
    "    \"maint\": {\"low\": 1, \"med\": 2, \"high\": 3, \"vhigh\": 4},\n",
    "    \"doors\": {\"2\": 1, \"3\": 2, \"4\": 3, \"5more\": 4},\n",
    "    \"persons\": {\"2\": 1, \"4\": 2, \"more\": 3},\n",
    "    \"lug_boot\": {\"small\": 1, \"med\": 2, \"big\": 3},\n",
    "    \"safety\": {\"low\": 1, \"med\": 2, \"high\": 3}\n",
    "}\n",
    "\n",
    "df.replace(mappings, inplace=True)\n",
    "test_df.replace(mappings, inplace=True)\n",
    "df = df.infer_objects(copy=False)\n",
    "test_df = test_df.infer_objects(copy=False)"
   ]
  },
  {
   "cell_type": "code",
   "execution_count": 6,
   "id": "54275ebb",
   "metadata": {
    "execution": {
     "iopub.execute_input": "2025-02-18T18:19:10.121072Z",
     "iopub.status.busy": "2025-02-18T18:19:10.120726Z",
     "iopub.status.idle": "2025-02-18T18:19:10.126149Z",
     "shell.execute_reply": "2025-02-18T18:19:10.125189Z"
    },
    "papermill": {
     "duration": 0.011922,
     "end_time": "2025-02-18T18:19:10.128087",
     "exception": false,
     "start_time": "2025-02-18T18:19:10.116165",
     "status": "completed"
    },
    "tags": []
   },
   "outputs": [],
   "source": [
    "# Encode target variable\n",
    "label_enc = LabelEncoder()\n",
    "df[\"class\"] = label_enc.fit_transform(df[\"class\"])"
   ]
  },
  {
   "cell_type": "code",
   "execution_count": 7,
   "id": "9f23e19a",
   "metadata": {
    "execution": {
     "iopub.execute_input": "2025-02-18T18:19:10.137808Z",
     "iopub.status.busy": "2025-02-18T18:19:10.137373Z",
     "iopub.status.idle": "2025-02-18T18:19:10.146734Z",
     "shell.execute_reply": "2025-02-18T18:19:10.145449Z"
    },
    "papermill": {
     "duration": 0.016776,
     "end_time": "2025-02-18T18:19:10.148845",
     "exception": false,
     "start_time": "2025-02-18T18:19:10.132069",
     "status": "completed"
    },
    "tags": []
   },
   "outputs": [],
   "source": [
    "# Split features and target\n",
    "X = df.drop(columns=[\"class\"])\n",
    "y = df[\"class\"]"
   ]
  },
  {
   "cell_type": "code",
   "execution_count": 8,
   "id": "c1bbe1cd",
   "metadata": {
    "execution": {
     "iopub.execute_input": "2025-02-18T18:19:10.161230Z",
     "iopub.status.busy": "2025-02-18T18:19:10.160860Z",
     "iopub.status.idle": "2025-02-18T18:19:10.173749Z",
     "shell.execute_reply": "2025-02-18T18:19:10.172590Z"
    },
    "papermill": {
     "duration": 0.021937,
     "end_time": "2025-02-18T18:19:10.175683",
     "exception": false,
     "start_time": "2025-02-18T18:19:10.153746",
     "status": "completed"
    },
    "tags": []
   },
   "outputs": [],
   "source": [
    "# Split training data into train and validation\n",
    "X_train, X_val, y_train, y_val = train_test_split(X, y, test_size=.05, random_state=42, stratify=y)"
   ]
  },
  {
   "cell_type": "code",
   "execution_count": 9,
   "id": "8f577a0e",
   "metadata": {
    "execution": {
     "iopub.execute_input": "2025-02-18T18:19:10.185300Z",
     "iopub.status.busy": "2025-02-18T18:19:10.184928Z",
     "iopub.status.idle": "2025-02-18T18:19:10.702875Z",
     "shell.execute_reply": "2025-02-18T18:19:10.701690Z"
    },
    "papermill": {
     "duration": 0.525198,
     "end_time": "2025-02-18T18:19:10.704894",
     "exception": false,
     "start_time": "2025-02-18T18:19:10.179696",
     "status": "completed"
    },
    "tags": []
   },
   "outputs": [
    {
     "data": {
      "text/html": [
       "<style>#sk-container-id-1 {color: black;background-color: white;}#sk-container-id-1 pre{padding: 0;}#sk-container-id-1 div.sk-toggleable {background-color: white;}#sk-container-id-1 label.sk-toggleable__label {cursor: pointer;display: block;width: 100%;margin-bottom: 0;padding: 0.3em;box-sizing: border-box;text-align: center;}#sk-container-id-1 label.sk-toggleable__label-arrow:before {content: \"▸\";float: left;margin-right: 0.25em;color: #696969;}#sk-container-id-1 label.sk-toggleable__label-arrow:hover:before {color: black;}#sk-container-id-1 div.sk-estimator:hover label.sk-toggleable__label-arrow:before {color: black;}#sk-container-id-1 div.sk-toggleable__content {max-height: 0;max-width: 0;overflow: hidden;text-align: left;background-color: #f0f8ff;}#sk-container-id-1 div.sk-toggleable__content pre {margin: 0.2em;color: black;border-radius: 0.25em;background-color: #f0f8ff;}#sk-container-id-1 input.sk-toggleable__control:checked~div.sk-toggleable__content {max-height: 200px;max-width: 100%;overflow: auto;}#sk-container-id-1 input.sk-toggleable__control:checked~label.sk-toggleable__label-arrow:before {content: \"▾\";}#sk-container-id-1 div.sk-estimator input.sk-toggleable__control:checked~label.sk-toggleable__label {background-color: #d4ebff;}#sk-container-id-1 div.sk-label input.sk-toggleable__control:checked~label.sk-toggleable__label {background-color: #d4ebff;}#sk-container-id-1 input.sk-hidden--visually {border: 0;clip: rect(1px 1px 1px 1px);clip: rect(1px, 1px, 1px, 1px);height: 1px;margin: -1px;overflow: hidden;padding: 0;position: absolute;width: 1px;}#sk-container-id-1 div.sk-estimator {font-family: monospace;background-color: #f0f8ff;border: 1px dotted black;border-radius: 0.25em;box-sizing: border-box;margin-bottom: 0.5em;}#sk-container-id-1 div.sk-estimator:hover {background-color: #d4ebff;}#sk-container-id-1 div.sk-parallel-item::after {content: \"\";width: 100%;border-bottom: 1px solid gray;flex-grow: 1;}#sk-container-id-1 div.sk-label:hover label.sk-toggleable__label {background-color: #d4ebff;}#sk-container-id-1 div.sk-serial::before {content: \"\";position: absolute;border-left: 1px solid gray;box-sizing: border-box;top: 0;bottom: 0;left: 50%;z-index: 0;}#sk-container-id-1 div.sk-serial {display: flex;flex-direction: column;align-items: center;background-color: white;padding-right: 0.2em;padding-left: 0.2em;position: relative;}#sk-container-id-1 div.sk-item {position: relative;z-index: 1;}#sk-container-id-1 div.sk-parallel {display: flex;align-items: stretch;justify-content: center;background-color: white;position: relative;}#sk-container-id-1 div.sk-item::before, #sk-container-id-1 div.sk-parallel-item::before {content: \"\";position: absolute;border-left: 1px solid gray;box-sizing: border-box;top: 0;bottom: 0;left: 50%;z-index: -1;}#sk-container-id-1 div.sk-parallel-item {display: flex;flex-direction: column;z-index: 1;position: relative;background-color: white;}#sk-container-id-1 div.sk-parallel-item:first-child::after {align-self: flex-end;width: 50%;}#sk-container-id-1 div.sk-parallel-item:last-child::after {align-self: flex-start;width: 50%;}#sk-container-id-1 div.sk-parallel-item:only-child::after {width: 0;}#sk-container-id-1 div.sk-dashed-wrapped {border: 1px dashed gray;margin: 0 0.4em 0.5em 0.4em;box-sizing: border-box;padding-bottom: 0.4em;background-color: white;}#sk-container-id-1 div.sk-label label {font-family: monospace;font-weight: bold;display: inline-block;line-height: 1.2em;}#sk-container-id-1 div.sk-label-container {text-align: center;}#sk-container-id-1 div.sk-container {/* jupyter's `normalize.less` sets `[hidden] { display: none; }` but bootstrap.min.css set `[hidden] { display: none !important; }` so we also need the `!important` here to be able to override the default hidden behavior on the sphinx rendered scikit-learn.org. See: https://github.com/scikit-learn/scikit-learn/issues/21755 */display: inline-block !important;position: relative;}#sk-container-id-1 div.sk-text-repr-fallback {display: none;}</style><div id=\"sk-container-id-1\" class=\"sk-top-container\"><div class=\"sk-text-repr-fallback\"><pre>XGBClassifier(base_score=None, booster=None, callbacks=None,\n",
       "              colsample_bylevel=None, colsample_bynode=None,\n",
       "              colsample_bytree=None, device=None, early_stopping_rounds=None,\n",
       "              enable_categorical=False, eval_metric=None, feature_types=None,\n",
       "              gamma=None, grow_policy=None, importance_type=None,\n",
       "              interaction_constraints=None, learning_rate=0.1, max_bin=None,\n",
       "              max_cat_threshold=None, max_cat_to_onehot=None,\n",
       "              max_delta_step=None, max_depth=6, max_leaves=None,\n",
       "              min_child_weight=None, missing=nan, monotone_constraints=None,\n",
       "              multi_strategy=None, n_estimators=300, n_jobs=None,\n",
       "              num_parallel_tree=None, objective=&#x27;multi:softprob&#x27;, ...)</pre><b>In a Jupyter environment, please rerun this cell to show the HTML representation or trust the notebook. <br />On GitHub, the HTML representation is unable to render, please try loading this page with nbviewer.org.</b></div><div class=\"sk-container\" hidden><div class=\"sk-item\"><div class=\"sk-estimator sk-toggleable\"><input class=\"sk-toggleable__control sk-hidden--visually\" id=\"sk-estimator-id-1\" type=\"checkbox\" checked><label for=\"sk-estimator-id-1\" class=\"sk-toggleable__label sk-toggleable__label-arrow\">XGBClassifier</label><div class=\"sk-toggleable__content\"><pre>XGBClassifier(base_score=None, booster=None, callbacks=None,\n",
       "              colsample_bylevel=None, colsample_bynode=None,\n",
       "              colsample_bytree=None, device=None, early_stopping_rounds=None,\n",
       "              enable_categorical=False, eval_metric=None, feature_types=None,\n",
       "              gamma=None, grow_policy=None, importance_type=None,\n",
       "              interaction_constraints=None, learning_rate=0.1, max_bin=None,\n",
       "              max_cat_threshold=None, max_cat_to_onehot=None,\n",
       "              max_delta_step=None, max_depth=6, max_leaves=None,\n",
       "              min_child_weight=None, missing=nan, monotone_constraints=None,\n",
       "              multi_strategy=None, n_estimators=300, n_jobs=None,\n",
       "              num_parallel_tree=None, objective=&#x27;multi:softprob&#x27;, ...)</pre></div></div></div></div></div>"
      ],
      "text/plain": [
       "XGBClassifier(base_score=None, booster=None, callbacks=None,\n",
       "              colsample_bylevel=None, colsample_bynode=None,\n",
       "              colsample_bytree=None, device=None, early_stopping_rounds=None,\n",
       "              enable_categorical=False, eval_metric=None, feature_types=None,\n",
       "              gamma=None, grow_policy=None, importance_type=None,\n",
       "              interaction_constraints=None, learning_rate=0.1, max_bin=None,\n",
       "              max_cat_threshold=None, max_cat_to_onehot=None,\n",
       "              max_delta_step=None, max_depth=6, max_leaves=None,\n",
       "              min_child_weight=None, missing=nan, monotone_constraints=None,\n",
       "              multi_strategy=None, n_estimators=300, n_jobs=None,\n",
       "              num_parallel_tree=None, objective='multi:softprob', ...)"
      ]
     },
     "execution_count": 9,
     "metadata": {},
     "output_type": "execute_result"
    }
   ],
   "source": [
    "# Train a XGB model\n",
    "clf = XGBClassifier(n_estimators=300, max_depth=6, learning_rate=0.1, random_state=42)\n",
    "clf.fit(X_train, y_train)"
   ]
  },
  {
   "cell_type": "code",
   "execution_count": 10,
   "id": "cce0e51a",
   "metadata": {
    "execution": {
     "iopub.execute_input": "2025-02-18T18:19:10.714964Z",
     "iopub.status.busy": "2025-02-18T18:19:10.714597Z",
     "iopub.status.idle": "2025-02-18T18:19:10.728254Z",
     "shell.execute_reply": "2025-02-18T18:19:10.725981Z"
    },
    "papermill": {
     "duration": 0.020977,
     "end_time": "2025-02-18T18:19:10.730254",
     "exception": false,
     "start_time": "2025-02-18T18:19:10.709277",
     "status": "completed"
    },
    "tags": []
   },
   "outputs": [
    {
     "name": "stdout",
     "output_type": "stream",
     "text": [
      "Validation Accuracy: 100.00%\n"
     ]
    }
   ],
   "source": [
    "# Validate model performance\n",
    "val_accuracy = clf.score(X_val, y_val)\n",
    "print(f\"Validation Accuracy: {val_accuracy:.2%}\")"
   ]
  },
  {
   "cell_type": "code",
   "execution_count": 11,
   "id": "98ce522c",
   "metadata": {
    "execution": {
     "iopub.execute_input": "2025-02-18T18:19:10.742596Z",
     "iopub.status.busy": "2025-02-18T18:19:10.742184Z",
     "iopub.status.idle": "2025-02-18T18:19:10.748488Z",
     "shell.execute_reply": "2025-02-18T18:19:10.747279Z"
    },
    "papermill": {
     "duration": 0.014752,
     "end_time": "2025-02-18T18:19:10.750459",
     "exception": false,
     "start_time": "2025-02-18T18:19:10.735707",
     "status": "completed"
    },
    "tags": []
   },
   "outputs": [],
   "source": [
    "# Ensure test dataset has the same features as training\n",
    "for col in X.columns:\n",
    "    if col not in test_df.columns:\n",
    "        test_df[col] = 0  # Assign 0 instead of NaN to avoid issues with ML models\n",
    "test_df = test_df[X.columns]  # Reorder columns"
   ]
  },
  {
   "cell_type": "code",
   "execution_count": 12,
   "id": "4e37571a",
   "metadata": {
    "execution": {
     "iopub.execute_input": "2025-02-18T18:19:10.761104Z",
     "iopub.status.busy": "2025-02-18T18:19:10.760759Z",
     "iopub.status.idle": "2025-02-18T18:19:10.773888Z",
     "shell.execute_reply": "2025-02-18T18:19:10.773007Z"
    },
    "papermill": {
     "duration": 0.021164,
     "end_time": "2025-02-18T18:19:10.776121",
     "exception": false,
     "start_time": "2025-02-18T18:19:10.754957",
     "status": "completed"
    },
    "tags": []
   },
   "outputs": [],
   "source": [
    "# Make predictions\n",
    "predictions = clf.predict(test_df)\n",
    "predicted_classes = label_enc.inverse_transform(predictions)"
   ]
  },
  {
   "cell_type": "code",
   "execution_count": 13,
   "id": "4959bf59",
   "metadata": {
    "execution": {
     "iopub.execute_input": "2025-02-18T18:19:10.789135Z",
     "iopub.status.busy": "2025-02-18T18:19:10.788758Z",
     "iopub.status.idle": "2025-02-18T18:19:10.794387Z",
     "shell.execute_reply": "2025-02-18T18:19:10.793016Z"
    },
    "papermill": {
     "duration": 0.014393,
     "end_time": "2025-02-18T18:19:10.796467",
     "exception": false,
     "start_time": "2025-02-18T18:19:10.782074",
     "status": "completed"
    },
    "tags": []
   },
   "outputs": [],
   "source": [
    "# Create output dataframe with original IDs\n",
    "output_df = pd.DataFrame({\"id\": test_ids, \"class\": predicted_classes})"
   ]
  },
  {
   "cell_type": "code",
   "execution_count": 14,
   "id": "fb321ab4",
   "metadata": {
    "execution": {
     "iopub.execute_input": "2025-02-18T18:19:10.806438Z",
     "iopub.status.busy": "2025-02-18T18:19:10.806040Z",
     "iopub.status.idle": "2025-02-18T18:19:10.820901Z",
     "shell.execute_reply": "2025-02-18T18:19:10.819649Z"
    },
    "papermill": {
     "duration": 0.022126,
     "end_time": "2025-02-18T18:19:10.823061",
     "exception": false,
     "start_time": "2025-02-18T18:19:10.800935",
     "status": "completed"
    },
    "tags": []
   },
   "outputs": [],
   "source": [
    "# Save predictions\n",
    "output_path = \"/kaggle/working/car_eval_predictions.csv\"\n",
    "output_df.to_csv(output_path, index=False)"
   ]
  },
  {
   "cell_type": "code",
   "execution_count": 15,
   "id": "0673f772",
   "metadata": {
    "execution": {
     "iopub.execute_input": "2025-02-18T18:19:10.836007Z",
     "iopub.status.busy": "2025-02-18T18:19:10.835624Z",
     "iopub.status.idle": "2025-02-18T18:19:10.843797Z",
     "shell.execute_reply": "2025-02-18T18:19:10.842227Z"
    },
    "papermill": {
     "duration": 0.017947,
     "end_time": "2025-02-18T18:19:10.846276",
     "exception": false,
     "start_time": "2025-02-18T18:19:10.828329",
     "status": "completed"
    },
    "tags": []
   },
   "outputs": [
    {
     "name": "stdout",
     "output_type": "stream",
     "text": [
      "Predictions saved to /kaggle/working/car_eval_predictions.csv\n"
     ]
    }
   ],
   "source": [
    "print(f\"Predictions saved to {output_path}\")"
   ]
  }
 ],
 "metadata": {
  "kaggle": {
   "accelerator": "none",
   "dataSources": [
    {
     "databundleVersionId": 11123519,
     "sourceId": 92988,
     "sourceType": "competition"
    },
    {
     "datasetId": 6692932,
     "sourceId": 10785419,
     "sourceType": "datasetVersion"
    }
   ],
   "dockerImageVersionId": 30886,
   "isGpuEnabled": false,
   "isInternetEnabled": false,
   "language": "python",
   "sourceType": "notebook"
  },
  "kernelspec": {
   "display_name": "Python 3",
   "language": "python",
   "name": "python3"
  },
  "language_info": {
   "codemirror_mode": {
    "name": "ipython",
    "version": 3
   },
   "file_extension": ".py",
   "mimetype": "text/x-python",
   "name": "python",
   "nbconvert_exporter": "python",
   "pygments_lexer": "ipython3",
   "version": "3.10.12"
  },
  "papermill": {
   "default_parameters": {},
   "duration": 8.349122,
   "end_time": "2025-02-18T18:19:11.673360",
   "environment_variables": {},
   "exception": null,
   "input_path": "__notebook__.ipynb",
   "output_path": "__notebook__.ipynb",
   "parameters": {},
   "start_time": "2025-02-18T18:19:03.324238",
   "version": "2.6.0"
  }
 },
 "nbformat": 4,
 "nbformat_minor": 5
}
